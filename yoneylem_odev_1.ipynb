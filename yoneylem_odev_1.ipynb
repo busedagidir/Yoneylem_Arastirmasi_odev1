{
  "nbformat": 4,
  "nbformat_minor": 0,
  "metadata": {
    "colab": {
      "name": "yoneylem-odev-1.ipynb",
      "provenance": [],
      "authorship_tag": "ABX9TyPvesDvzLkb/xFi2GLQCi9X",
      "include_colab_link": true
    },
    "kernelspec": {
      "name": "python3",
      "display_name": "Python 3"
    },
    "language_info": {
      "name": "python"
    }
  },
  "cells": [
    {
      "cell_type": "markdown",
      "metadata": {
        "id": "view-in-github",
        "colab_type": "text"
      },
      "source": [
        "<a href=\"https://colab.research.google.com/github/busedagidir/Yoneylem_Arastirmasi_odev1/blob/master/yoneylem_odev_1.ipynb\" target=\"_parent\"><img src=\"https://colab.research.google.com/assets/colab-badge.svg\" alt=\"Open In Colab\"/></a>"
      ]
    },
    {
      "cell_type": "code",
      "metadata": {
        "colab": {
          "base_uri": "https://localhost:8080/"
        },
        "id": "wJI-EJrpLk-W",
        "outputId": "27a2ef96-1117-4777-f5e8-0fb9109b50be"
      },
      "source": [
        "!pip install pulp"
      ],
      "execution_count": null,
      "outputs": [
        {
          "output_type": "stream",
          "name": "stdout",
          "text": [
            "Collecting pulp\n",
            "  Downloading PuLP-2.6.0-py3-none-any.whl (14.2 MB)\n",
            "\u001b[K     |████████████████████████████████| 14.2 MB 13.0 MB/s \n",
            "\u001b[?25hInstalling collected packages: pulp\n",
            "Successfully installed pulp-2.6.0\n"
          ]
        }
      ]
    },
    {
      "cell_type": "code",
      "metadata": {
        "id": "Ads2jsc2Ls4W"
      },
      "source": [
        "from pulp import *\n",
        "import matplotlib.pyplot as plt\n",
        "import numpy as np"
      ],
      "execution_count": null,
      "outputs": []
    },
    {
      "cell_type": "code",
      "metadata": {
        "id": "XQlp3gilHi0j",
        "colab": {
          "base_uri": "https://localhost:8080/"
        },
        "outputId": "b39ee38b-063b-4076-bd50-1215eb5c0e06"
      },
      "source": [
        "prob = LpProblem(\"Simple LP Graph Problem\", LpMaximize)"
      ],
      "execution_count": null,
      "outputs": [
        {
          "output_type": "stream",
          "name": "stderr",
          "text": [
            "/usr/local/lib/python3.7/dist-packages/pulp/pulp.py:1352: UserWarning: Spaces are not permitted in the name. Converted to '_'\n",
            "  warnings.warn(\"Spaces are not permitted in the name. Converted to '_'\")\n"
          ]
        }
      ]
    },
    {
      "cell_type": "code",
      "metadata": {
        "id": "qZxoExumL5uf"
      },
      "source": [
        "x1 = LpVariable(\"x1\",0)\n",
        "x2 = LpVariable(\"x2\",0)"
      ],
      "execution_count": null,
      "outputs": []
    },
    {
      "cell_type": "code",
      "metadata": {
        "id": "HQdi7v2sMzl3"
      },
      "source": [
        "prob += x1 +2*x2"
      ],
      "execution_count": null,
      "outputs": []
    },
    {
      "cell_type": "code",
      "metadata": {
        "id": "1tv_pF70M73v"
      },
      "source": [
        "prob += x1 + 3*x2 <= 3.0, \"1. kısıt\"\n",
        "prob += 2*x1 + x2 <= 2.0, \"2. kısıt\"\n",
        "prob += 3*x1 + x2 <= 3.0, \"3.kısıt\""
      ],
      "execution_count": null,
      "outputs": []
    },
    {
      "cell_type": "code",
      "metadata": {
        "colab": {
          "base_uri": "https://localhost:8080/"
        },
        "id": "cZWHZrF3NJt5",
        "outputId": "0ec6e1b7-1725-48aa-d2eb-24e5f46ee7de"
      },
      "source": [
        "prob.solve()"
      ],
      "execution_count": null,
      "outputs": [
        {
          "output_type": "execute_result",
          "data": {
            "text/plain": [
              "1"
            ]
          },
          "metadata": {},
          "execution_count": 7
        }
      ]
    },
    {
      "cell_type": "code",
      "metadata": {
        "colab": {
          "base_uri": "https://localhost:8080/"
        },
        "id": "9C3CdySsNLj6",
        "outputId": "0e07142c-6e5b-4972-95d3-578803b7898f"
      },
      "source": [
        "print(\"Çözüm optimal mi: \", LpStatus[prob.status])"
      ],
      "execution_count": null,
      "outputs": [
        {
          "output_type": "stream",
          "name": "stdout",
          "text": [
            "Çözüm optimal mi:  Optimal\n"
          ]
        }
      ]
    },
    {
      "cell_type": "code",
      "metadata": {
        "colab": {
          "base_uri": "https://localhost:8080/"
        },
        "id": "jIL8crHAOJ-c",
        "outputId": "982cf6ab-86f2-41aa-8fe5-1b17aef772ff"
      },
      "source": [
        "for v in prob.variables():\n",
        "  print (\"Max yapan noktalar:\", v.name, \"=\", v.varValue)"
      ],
      "execution_count": null,
      "outputs": [
        {
          "output_type": "stream",
          "name": "stdout",
          "text": [
            "Max yapan noktalar: x1 = 0.6\n",
            "Max yapan noktalar: x2 = 0.8\n"
          ]
        }
      ]
    },
    {
      "cell_type": "code",
      "metadata": {
        "colab": {
          "base_uri": "https://localhost:8080/"
        },
        "id": "p6fdsRbyOZvG",
        "outputId": "04b54894-883e-43e5-caa9-b196db35d1aa"
      },
      "source": [
        "print(\"Bu fonksiyonun optimal değeri: \", value(prob.objective))"
      ],
      "execution_count": null,
      "outputs": [
        {
          "output_type": "stream",
          "name": "stdout",
          "text": [
            "Bu fonksiyonun optimal değeri:  2.2\n"
          ]
        }
      ]
    },
    {
      "cell_type": "code",
      "metadata": {
        "colab": {
          "base_uri": "https://localhost:8080/",
          "height": 269
        },
        "id": "7nXeWI8nOunG",
        "outputId": "f395ec19-b35e-46af-d8ff-b699f30a3bfe"
      },
      "source": [
        "x = np.arange(0,10)\n",
        "plt.plot(x, 1 - (x/3), label = 'x1 + 3*x2 <= 3')\n",
        "plt.plot(x, 2 - 2*x, label = '2*x1 + x2 <= 2')\n",
        "plt.plot(x, 3-3*x, label = '3*x1 + x2 <= 3')\n",
        "\n",
        "plt.axis([0,5, 0,5])\n",
        "plt.grid(True)\n",
        "plt.legend()\n",
        "plt.show()"
      ],
      "execution_count": null,
      "outputs": [
        {
          "output_type": "display_data",
          "data": {
            "image/png": "[encoded data removed]",
            "text/plain": [
              "<Figure size 432x288 with 1 Axes>"
            ]
          },
          "metadata": {
            "needs_background": "light"
          }
        }
      ]
    },
    {
      "cell_type": "code",
      "metadata": {
        "colab": {
          "base_uri": "https://localhost:8080/",
          "height": 296
        },
        "id": "l8itTA-OTVtu",
        "outputId": "8d89549a-7bd2-4b7c-85a1-1a8e792156c0"
      },
      "source": [
        "x = np.arange(0,10)\n",
        "plt.plot(x, 1 - (x/3), label = 'x1 + 3*x2 <= 3')\n",
        "plt.plot(x, 2 - 2*x, label = '2*x1 + x2 <= 2')\n",
        "plt.plot(x, 3-3*x, label = '3*x1 + x2 <= 3')\n",
        "\n",
        "x = [0,0.6,1,0]\n",
        "y = [1,0.8,0,0]\n",
        "plt.fill(x,y,'gray')\n",
        "\n",
        "plt.text(0.1,0.5, 'Taralı\\nBolge', size=9)\n",
        "plt.annotate('Kesişim noktası (0.6, 0.8)', xy=(0.6,0.8))\n",
        "\n",
        "plt.xlabel(\"x_1\")\n",
        "plt.ylabel(\"x_2\")\n",
        "plt.title(\"Grafik Methodu\")\n",
        "plt.axis([0,4,0,4])\n",
        "plt.grid(True)\n",
        "plt.legend()\n",
        "plt.show()"
      ],
      "execution_count": null,
      "outputs": [
        {
          "output_type": "display_data",
          "data": {
            "image/png": "[encoded data removed]",
            "text/plain": [
              "<Figure size 432x288 with 1 Axes>"
            ]
          },
          "metadata": {
            "needs_background": "light"
          }
        }
      ]
    },
    {
      "cell_type": "code",
      "metadata": {
        "id": "armT1ZsnZQRx"
      },
      "source": [
        ""
      ],
      "execution_count": null,
      "outputs": []
    }
  ]
}